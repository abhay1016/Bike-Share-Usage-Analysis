{
  "nbformat": 4,
  "nbformat_minor": 0,
  "metadata": {
    "colab": {
      "provenance": []
    },
    "kernelspec": {
      "name": "python3",
      "display_name": "Python 3"
    },
    "language_info": {
      "name": "python"
    }
  },
  "cells": [
    {
      "cell_type": "code",
      "execution_count": 14,
      "metadata": {
        "id": "pbVGoDwjZjhF"
      },
      "outputs": [],
      "source": [
        "import pandas as pd\n",
        "import numpy as np\n",
        "import os\n",
        "\n",
        "\n"
      ]
    },
    {
      "cell_type": "code",
      "source": [
        "all_files = [f for f in os.listdir(data_path) if f.endswith(\".csv\")]\n",
        "dfs = []\n",
        "\n",
        "for f in all_files:\n",
        "    print(\"Reading:\", f)\n",
        "    df_temp = pd.read_csv(\n",
        "        os.path.join(data_path, f),\n",
        "        engine='python',        # More tolerant than C engine\n",
        "        on_bad_lines='skip',    # Skip corrupted rows\n",
        "        encoding='utf-8'        # Common encoding\n",
        "    )\n",
        "    dfs.append(df_temp)\n",
        "\n",
        "# Combine all\n",
        "df = pd.concat(dfs, ignore_index=True)\n",
        "print(\"Combined shape:\", df.shape)\n"
      ],
      "metadata": {
        "colab": {
          "base_uri": "https://localhost:8080/"
        },
        "id": "ZuOj0p6daJzM",
        "outputId": "ea1bed31-600c-4ee4-c3e7-dfdc8446b901"
      },
      "execution_count": 20,
      "outputs": [
        {
          "output_type": "stream",
          "name": "stdout",
          "text": [
            "Reading: 202404-divvy-tripdata.csv\n",
            "Reading: 202407-divvy-tripdata.csv\n",
            "Reading: 202410-divvy-tripdata.csv\n",
            "Reading: 202406-divvy-tripdata.csv\n",
            "Reading: 202411-divvy-tripdata.csv\n",
            "Reading: 202408-divvy-tripdata.csv\n",
            "Reading: 202402-divvy-tripdata.csv\n",
            "Reading: 202401-divvy-tripdata.csv\n",
            "Reading: 202405-divvy-tripdata.csv\n",
            "Reading: 202312-divvy-tripdata.csv\n",
            "Reading: 202403-divvy-tripdata.csv\n",
            "Reading: 202409-divvy-tripdata.csv\n",
            "Combined shape: (2935519, 13)\n"
          ]
        }
      ]
    },
    {
      "cell_type": "code",
      "source": [
        "# Preview\n",
        "print(df.shape)\n",
        "df.head()"
      ],
      "metadata": {
        "colab": {
          "base_uri": "https://localhost:8080/",
          "height": 417
        },
        "id": "KNMb55OsaJ8L",
        "outputId": "401bde4a-e192-47ee-810c-98f0b5c1504d"
      },
      "execution_count": 21,
      "outputs": [
        {
          "output_type": "stream",
          "name": "stdout",
          "text": [
            "(2935519, 13)\n"
          ]
        },
        {
          "output_type": "execute_result",
          "data": {
            "text/plain": [
              "            ride_id  rideable_type           started_at             ended_at  \\\n",
              "0  743252713F32516B   classic_bike  2024-04-22 19:08:21  2024-04-22 19:12:56   \n",
              "1  BE90D33D2240C614  electric_bike  2024-04-11 06:19:24  2024-04-11 06:22:21   \n",
              "2  D47BBDDE7C40DD61   classic_bike  2024-04-20 11:13:13  2024-04-20 11:29:31   \n",
              "3  6684E760BF9EA9B5   classic_bike  2024-04-04 18:39:20  2024-04-04 18:43:06   \n",
              "4  CA9EFC0D24C24A27  electric_bike  2024-04-19 19:30:20  2024-04-19 20:07:42   \n",
              "\n",
              "           start_station_name start_station_id  \\\n",
              "0  Aberdeen St & Jackson Blvd            13157   \n",
              "1  Aberdeen St & Jackson Blvd            13157   \n",
              "2  Sheridan Rd & Montrose Ave     TA1307000107   \n",
              "3  Aberdeen St & Jackson Blvd            13157   \n",
              "4  Sheridan Rd & Montrose Ave     TA1307000107   \n",
              "\n",
              "                 end_station_name end_station_id  start_lat  start_lng  \\\n",
              "0    Desplaines St & Jackson Blvd          15539  41.877726 -87.654787   \n",
              "1    Desplaines St & Jackson Blvd          15539  41.877722 -87.654959   \n",
              "2  Ashland Ave & Belle Plaine Ave          13249  41.961670  -87.65464   \n",
              "3    Desplaines St & Jackson Blvd          15539  41.877726 -87.654787   \n",
              "4    Stetson Ave & South Water St   TA1308000029  41.961613 -87.654615   \n",
              "\n",
              "     end_lat    end_lng member_casual  \n",
              "0  41.878119 -87.643948        member  \n",
              "1  41.878119 -87.643948        member  \n",
              "2  41.956057 -87.668835        member  \n",
              "3  41.878119 -87.643948        member  \n",
              "4  41.886835  -87.62232        member  "
            ],
            "text/html": [
              "\n",
              "  <div id=\"df-aeff1cad-890a-457b-8b94-0168aabe08d9\" class=\"colab-df-container\">\n",
              "    <div>\n",
              "<style scoped>\n",
              "    .dataframe tbody tr th:only-of-type {\n",
              "        vertical-align: middle;\n",
              "    }\n",
              "\n",
              "    .dataframe tbody tr th {\n",
              "        vertical-align: top;\n",
              "    }\n",
              "\n",
              "    .dataframe thead th {\n",
              "        text-align: right;\n",
              "    }\n",
              "</style>\n",
              "<table border=\"1\" class=\"dataframe\">\n",
              "  <thead>\n",
              "    <tr style=\"text-align: right;\">\n",
              "      <th></th>\n",
              "      <th>ride_id</th>\n",
              "      <th>rideable_type</th>\n",
              "      <th>started_at</th>\n",
              "      <th>ended_at</th>\n",
              "      <th>start_station_name</th>\n",
              "      <th>start_station_id</th>\n",
              "      <th>end_station_name</th>\n",
              "      <th>end_station_id</th>\n",
              "      <th>start_lat</th>\n",
              "      <th>start_lng</th>\n",
              "      <th>end_lat</th>\n",
              "      <th>end_lng</th>\n",
              "      <th>member_casual</th>\n",
              "    </tr>\n",
              "  </thead>\n",
              "  <tbody>\n",
              "    <tr>\n",
              "      <th>0</th>\n",
              "      <td>743252713F32516B</td>\n",
              "      <td>classic_bike</td>\n",
              "      <td>2024-04-22 19:08:21</td>\n",
              "      <td>2024-04-22 19:12:56</td>\n",
              "      <td>Aberdeen St &amp; Jackson Blvd</td>\n",
              "      <td>13157</td>\n",
              "      <td>Desplaines St &amp; Jackson Blvd</td>\n",
              "      <td>15539</td>\n",
              "      <td>41.877726</td>\n",
              "      <td>-87.654787</td>\n",
              "      <td>41.878119</td>\n",
              "      <td>-87.643948</td>\n",
              "      <td>member</td>\n",
              "    </tr>\n",
              "    <tr>\n",
              "      <th>1</th>\n",
              "      <td>BE90D33D2240C614</td>\n",
              "      <td>electric_bike</td>\n",
              "      <td>2024-04-11 06:19:24</td>\n",
              "      <td>2024-04-11 06:22:21</td>\n",
              "      <td>Aberdeen St &amp; Jackson Blvd</td>\n",
              "      <td>13157</td>\n",
              "      <td>Desplaines St &amp; Jackson Blvd</td>\n",
              "      <td>15539</td>\n",
              "      <td>41.877722</td>\n",
              "      <td>-87.654959</td>\n",
              "      <td>41.878119</td>\n",
              "      <td>-87.643948</td>\n",
              "      <td>member</td>\n",
              "    </tr>\n",
              "    <tr>\n",
              "      <th>2</th>\n",
              "      <td>D47BBDDE7C40DD61</td>\n",
              "      <td>classic_bike</td>\n",
              "      <td>2024-04-20 11:13:13</td>\n",
              "      <td>2024-04-20 11:29:31</td>\n",
              "      <td>Sheridan Rd &amp; Montrose Ave</td>\n",
              "      <td>TA1307000107</td>\n",
              "      <td>Ashland Ave &amp; Belle Plaine Ave</td>\n",
              "      <td>13249</td>\n",
              "      <td>41.961670</td>\n",
              "      <td>-87.65464</td>\n",
              "      <td>41.956057</td>\n",
              "      <td>-87.668835</td>\n",
              "      <td>member</td>\n",
              "    </tr>\n",
              "    <tr>\n",
              "      <th>3</th>\n",
              "      <td>6684E760BF9EA9B5</td>\n",
              "      <td>classic_bike</td>\n",
              "      <td>2024-04-04 18:39:20</td>\n",
              "      <td>2024-04-04 18:43:06</td>\n",
              "      <td>Aberdeen St &amp; Jackson Blvd</td>\n",
              "      <td>13157</td>\n",
              "      <td>Desplaines St &amp; Jackson Blvd</td>\n",
              "      <td>15539</td>\n",
              "      <td>41.877726</td>\n",
              "      <td>-87.654787</td>\n",
              "      <td>41.878119</td>\n",
              "      <td>-87.643948</td>\n",
              "      <td>member</td>\n",
              "    </tr>\n",
              "    <tr>\n",
              "      <th>4</th>\n",
              "      <td>CA9EFC0D24C24A27</td>\n",
              "      <td>electric_bike</td>\n",
              "      <td>2024-04-19 19:30:20</td>\n",
              "      <td>2024-04-19 20:07:42</td>\n",
              "      <td>Sheridan Rd &amp; Montrose Ave</td>\n",
              "      <td>TA1307000107</td>\n",
              "      <td>Stetson Ave &amp; South Water St</td>\n",
              "      <td>TA1308000029</td>\n",
              "      <td>41.961613</td>\n",
              "      <td>-87.654615</td>\n",
              "      <td>41.886835</td>\n",
              "      <td>-87.62232</td>\n",
              "      <td>member</td>\n",
              "    </tr>\n",
              "  </tbody>\n",
              "</table>\n",
              "</div>\n",
              "    <div class=\"colab-df-buttons\">\n",
              "\n",
              "  <div class=\"colab-df-container\">\n",
              "    <button class=\"colab-df-convert\" onclick=\"convertToInteractive('df-aeff1cad-890a-457b-8b94-0168aabe08d9')\"\n",
              "            title=\"Convert this dataframe to an interactive table.\"\n",
              "            style=\"display:none;\">\n",
              "\n",
              "  <svg xmlns=\"http://www.w3.org/2000/svg\" height=\"24px\" viewBox=\"0 -960 960 960\">\n",
              "    <path d=\"M120-120v-720h720v720H120Zm60-500h600v-160H180v160Zm220 220h160v-160H400v160Zm0 220h160v-160H400v160ZM180-400h160v-160H180v160Zm440 0h160v-160H620v160ZM180-180h160v-160H180v160Zm440 0h160v-160H620v160Z\"/>\n",
              "  </svg>\n",
              "    </button>\n",
              "\n",
              "  <style>\n",
              "    .colab-df-container {\n",
              "      display:flex;\n",
              "      gap: 12px;\n",
              "    }\n",
              "\n",
              "    .colab-df-convert {\n",
              "      background-color: #E8F0FE;\n",
              "      border: none;\n",
              "      border-radius: 50%;\n",
              "      cursor: pointer;\n",
              "      display: none;\n",
              "      fill: #1967D2;\n",
              "      height: 32px;\n",
              "      padding: 0 0 0 0;\n",
              "      width: 32px;\n",
              "    }\n",
              "\n",
              "    .colab-df-convert:hover {\n",
              "      background-color: #E2EBFA;\n",
              "      box-shadow: 0px 1px 2px rgba(60, 64, 67, 0.3), 0px 1px 3px 1px rgba(60, 64, 67, 0.15);\n",
              "      fill: #174EA6;\n",
              "    }\n",
              "\n",
              "    .colab-df-buttons div {\n",
              "      margin-bottom: 4px;\n",
              "    }\n",
              "\n",
              "    [theme=dark] .colab-df-convert {\n",
              "      background-color: #3B4455;\n",
              "      fill: #D2E3FC;\n",
              "    }\n",
              "\n",
              "    [theme=dark] .colab-df-convert:hover {\n",
              "      background-color: #434B5C;\n",
              "      box-shadow: 0px 1px 3px 1px rgba(0, 0, 0, 0.15);\n",
              "      filter: drop-shadow(0px 1px 2px rgba(0, 0, 0, 0.3));\n",
              "      fill: #FFFFFF;\n",
              "    }\n",
              "  </style>\n",
              "\n",
              "    <script>\n",
              "      const buttonEl =\n",
              "        document.querySelector('#df-aeff1cad-890a-457b-8b94-0168aabe08d9 button.colab-df-convert');\n",
              "      buttonEl.style.display =\n",
              "        google.colab.kernel.accessAllowed ? 'block' : 'none';\n",
              "\n",
              "      async function convertToInteractive(key) {\n",
              "        const element = document.querySelector('#df-aeff1cad-890a-457b-8b94-0168aabe08d9');\n",
              "        const dataTable =\n",
              "          await google.colab.kernel.invokeFunction('convertToInteractive',\n",
              "                                                    [key], {});\n",
              "        if (!dataTable) return;\n",
              "\n",
              "        const docLinkHtml = 'Like what you see? Visit the ' +\n",
              "          '<a target=\"_blank\" href=https://colab.research.google.com/notebooks/data_table.ipynb>data table notebook</a>'\n",
              "          + ' to learn more about interactive tables.';\n",
              "        element.innerHTML = '';\n",
              "        dataTable['output_type'] = 'display_data';\n",
              "        await google.colab.output.renderOutput(dataTable, element);\n",
              "        const docLink = document.createElement('div');\n",
              "        docLink.innerHTML = docLinkHtml;\n",
              "        element.appendChild(docLink);\n",
              "      }\n",
              "    </script>\n",
              "  </div>\n",
              "\n",
              "\n",
              "    <div id=\"df-cc11d00e-5c86-4105-a36d-808c0209b686\">\n",
              "      <button class=\"colab-df-quickchart\" onclick=\"quickchart('df-cc11d00e-5c86-4105-a36d-808c0209b686')\"\n",
              "                title=\"Suggest charts\"\n",
              "                style=\"display:none;\">\n",
              "\n",
              "<svg xmlns=\"http://www.w3.org/2000/svg\" height=\"24px\"viewBox=\"0 0 24 24\"\n",
              "     width=\"24px\">\n",
              "    <g>\n",
              "        <path d=\"M19 3H5c-1.1 0-2 .9-2 2v14c0 1.1.9 2 2 2h14c1.1 0 2-.9 2-2V5c0-1.1-.9-2-2-2zM9 17H7v-7h2v7zm4 0h-2V7h2v10zm4 0h-2v-4h2v4z\"/>\n",
              "    </g>\n",
              "</svg>\n",
              "      </button>\n",
              "\n",
              "<style>\n",
              "  .colab-df-quickchart {\n",
              "      --bg-color: #E8F0FE;\n",
              "      --fill-color: #1967D2;\n",
              "      --hover-bg-color: #E2EBFA;\n",
              "      --hover-fill-color: #174EA6;\n",
              "      --disabled-fill-color: #AAA;\n",
              "      --disabled-bg-color: #DDD;\n",
              "  }\n",
              "\n",
              "  [theme=dark] .colab-df-quickchart {\n",
              "      --bg-color: #3B4455;\n",
              "      --fill-color: #D2E3FC;\n",
              "      --hover-bg-color: #434B5C;\n",
              "      --hover-fill-color: #FFFFFF;\n",
              "      --disabled-bg-color: #3B4455;\n",
              "      --disabled-fill-color: #666;\n",
              "  }\n",
              "\n",
              "  .colab-df-quickchart {\n",
              "    background-color: var(--bg-color);\n",
              "    border: none;\n",
              "    border-radius: 50%;\n",
              "    cursor: pointer;\n",
              "    display: none;\n",
              "    fill: var(--fill-color);\n",
              "    height: 32px;\n",
              "    padding: 0;\n",
              "    width: 32px;\n",
              "  }\n",
              "\n",
              "  .colab-df-quickchart:hover {\n",
              "    background-color: var(--hover-bg-color);\n",
              "    box-shadow: 0 1px 2px rgba(60, 64, 67, 0.3), 0 1px 3px 1px rgba(60, 64, 67, 0.15);\n",
              "    fill: var(--button-hover-fill-color);\n",
              "  }\n",
              "\n",
              "  .colab-df-quickchart-complete:disabled,\n",
              "  .colab-df-quickchart-complete:disabled:hover {\n",
              "    background-color: var(--disabled-bg-color);\n",
              "    fill: var(--disabled-fill-color);\n",
              "    box-shadow: none;\n",
              "  }\n",
              "\n",
              "  .colab-df-spinner {\n",
              "    border: 2px solid var(--fill-color);\n",
              "    border-color: transparent;\n",
              "    border-bottom-color: var(--fill-color);\n",
              "    animation:\n",
              "      spin 1s steps(1) infinite;\n",
              "  }\n",
              "\n",
              "  @keyframes spin {\n",
              "    0% {\n",
              "      border-color: transparent;\n",
              "      border-bottom-color: var(--fill-color);\n",
              "      border-left-color: var(--fill-color);\n",
              "    }\n",
              "    20% {\n",
              "      border-color: transparent;\n",
              "      border-left-color: var(--fill-color);\n",
              "      border-top-color: var(--fill-color);\n",
              "    }\n",
              "    30% {\n",
              "      border-color: transparent;\n",
              "      border-left-color: var(--fill-color);\n",
              "      border-top-color: var(--fill-color);\n",
              "      border-right-color: var(--fill-color);\n",
              "    }\n",
              "    40% {\n",
              "      border-color: transparent;\n",
              "      border-right-color: var(--fill-color);\n",
              "      border-top-color: var(--fill-color);\n",
              "    }\n",
              "    60% {\n",
              "      border-color: transparent;\n",
              "      border-right-color: var(--fill-color);\n",
              "    }\n",
              "    80% {\n",
              "      border-color: transparent;\n",
              "      border-right-color: var(--fill-color);\n",
              "      border-bottom-color: var(--fill-color);\n",
              "    }\n",
              "    90% {\n",
              "      border-color: transparent;\n",
              "      border-bottom-color: var(--fill-color);\n",
              "    }\n",
              "  }\n",
              "</style>\n",
              "\n",
              "      <script>\n",
              "        async function quickchart(key) {\n",
              "          const quickchartButtonEl =\n",
              "            document.querySelector('#' + key + ' button');\n",
              "          quickchartButtonEl.disabled = true;  // To prevent multiple clicks.\n",
              "          quickchartButtonEl.classList.add('colab-df-spinner');\n",
              "          try {\n",
              "            const charts = await google.colab.kernel.invokeFunction(\n",
              "                'suggestCharts', [key], {});\n",
              "          } catch (error) {\n",
              "            console.error('Error during call to suggestCharts:', error);\n",
              "          }\n",
              "          quickchartButtonEl.classList.remove('colab-df-spinner');\n",
              "          quickchartButtonEl.classList.add('colab-df-quickchart-complete');\n",
              "        }\n",
              "        (() => {\n",
              "          let quickchartButtonEl =\n",
              "            document.querySelector('#df-cc11d00e-5c86-4105-a36d-808c0209b686 button');\n",
              "          quickchartButtonEl.style.display =\n",
              "            google.colab.kernel.accessAllowed ? 'block' : 'none';\n",
              "        })();\n",
              "      </script>\n",
              "    </div>\n",
              "\n",
              "    </div>\n",
              "  </div>\n"
            ],
            "application/vnd.google.colaboratory.intrinsic+json": {
              "type": "dataframe",
              "variable_name": "df"
            }
          },
          "metadata": {},
          "execution_count": 21
        }
      ]
    },
    {
      "cell_type": "code",
      "source": [
        "df.info()"
      ],
      "metadata": {
        "colab": {
          "base_uri": "https://localhost:8080/"
        },
        "id": "Ju7h84E-kZ_B",
        "outputId": "8a07a76a-a321-4029-92e0-86fc4d7d335c"
      },
      "execution_count": 22,
      "outputs": [
        {
          "output_type": "stream",
          "name": "stdout",
          "text": [
            "<class 'pandas.core.frame.DataFrame'>\n",
            "RangeIndex: 2935519 entries, 0 to 2935518\n",
            "Data columns (total 13 columns):\n",
            " #   Column              Dtype  \n",
            "---  ------              -----  \n",
            " 0   ride_id             object \n",
            " 1   rideable_type       object \n",
            " 2   started_at          object \n",
            " 3   ended_at            object \n",
            " 4   start_station_name  object \n",
            " 5   start_station_id    object \n",
            " 6   end_station_name    object \n",
            " 7   end_station_id      object \n",
            " 8   start_lat           float64\n",
            " 9   start_lng           object \n",
            " 10  end_lat             float64\n",
            " 11  end_lng             object \n",
            " 12  member_casual       object \n",
            "dtypes: float64(2), object(11)\n",
            "memory usage: 291.2+ MB\n"
          ]
        }
      ]
    },
    {
      "cell_type": "code",
      "source": [
        "# Check null values\n",
        "df.isnull().sum()"
      ],
      "metadata": {
        "colab": {
          "base_uri": "https://localhost:8080/",
          "height": 491
        },
        "id": "y4YYdD3okaCH",
        "outputId": "1415b889-e0f8-4431-eb80-ef74c0a35c97"
      },
      "execution_count": 23,
      "outputs": [
        {
          "output_type": "execute_result",
          "data": {
            "text/plain": [
              "ride_id                    0\n",
              "rideable_type              0\n",
              "started_at                 0\n",
              "ended_at                   1\n",
              "start_station_name    447250\n",
              "start_station_id      447249\n",
              "end_station_name      446631\n",
              "end_station_id        446632\n",
              "start_lat                  2\n",
              "start_lng                  2\n",
              "end_lat                 3155\n",
              "end_lng                 3157\n",
              "member_casual              7\n",
              "dtype: int64"
            ],
            "text/html": [
              "<div>\n",
              "<style scoped>\n",
              "    .dataframe tbody tr th:only-of-type {\n",
              "        vertical-align: middle;\n",
              "    }\n",
              "\n",
              "    .dataframe tbody tr th {\n",
              "        vertical-align: top;\n",
              "    }\n",
              "\n",
              "    .dataframe thead th {\n",
              "        text-align: right;\n",
              "    }\n",
              "</style>\n",
              "<table border=\"1\" class=\"dataframe\">\n",
              "  <thead>\n",
              "    <tr style=\"text-align: right;\">\n",
              "      <th></th>\n",
              "      <th>0</th>\n",
              "    </tr>\n",
              "  </thead>\n",
              "  <tbody>\n",
              "    <tr>\n",
              "      <th>ride_id</th>\n",
              "      <td>0</td>\n",
              "    </tr>\n",
              "    <tr>\n",
              "      <th>rideable_type</th>\n",
              "      <td>0</td>\n",
              "    </tr>\n",
              "    <tr>\n",
              "      <th>started_at</th>\n",
              "      <td>0</td>\n",
              "    </tr>\n",
              "    <tr>\n",
              "      <th>ended_at</th>\n",
              "      <td>1</td>\n",
              "    </tr>\n",
              "    <tr>\n",
              "      <th>start_station_name</th>\n",
              "      <td>447250</td>\n",
              "    </tr>\n",
              "    <tr>\n",
              "      <th>start_station_id</th>\n",
              "      <td>447249</td>\n",
              "    </tr>\n",
              "    <tr>\n",
              "      <th>end_station_name</th>\n",
              "      <td>446631</td>\n",
              "    </tr>\n",
              "    <tr>\n",
              "      <th>end_station_id</th>\n",
              "      <td>446632</td>\n",
              "    </tr>\n",
              "    <tr>\n",
              "      <th>start_lat</th>\n",
              "      <td>2</td>\n",
              "    </tr>\n",
              "    <tr>\n",
              "      <th>start_lng</th>\n",
              "      <td>2</td>\n",
              "    </tr>\n",
              "    <tr>\n",
              "      <th>end_lat</th>\n",
              "      <td>3155</td>\n",
              "    </tr>\n",
              "    <tr>\n",
              "      <th>end_lng</th>\n",
              "      <td>3157</td>\n",
              "    </tr>\n",
              "    <tr>\n",
              "      <th>member_casual</th>\n",
              "      <td>7</td>\n",
              "    </tr>\n",
              "  </tbody>\n",
              "</table>\n",
              "</div><br><label><b>dtype:</b> int64</label>"
            ]
          },
          "metadata": {},
          "execution_count": 23
        }
      ]
    },
    {
      "cell_type": "code",
      "source": [
        "# Preview unique user types\n",
        "df['member_casual'].value_counts()"
      ],
      "metadata": {
        "colab": {
          "base_uri": "https://localhost:8080/",
          "height": 178
        },
        "id": "ZQqHVSL8k6mK",
        "outputId": "a474b9c9-6646-4ea3-ecd1-e7237d24a570"
      },
      "execution_count": 24,
      "outputs": [
        {
          "output_type": "execute_result",
          "data": {
            "text/plain": [
              "member_casual\n",
              "member    1895644\n",
              "casual    1039868\n",
              "Name: count, dtype: int64"
            ],
            "text/html": [
              "<div>\n",
              "<style scoped>\n",
              "    .dataframe tbody tr th:only-of-type {\n",
              "        vertical-align: middle;\n",
              "    }\n",
              "\n",
              "    .dataframe tbody tr th {\n",
              "        vertical-align: top;\n",
              "    }\n",
              "\n",
              "    .dataframe thead th {\n",
              "        text-align: right;\n",
              "    }\n",
              "</style>\n",
              "<table border=\"1\" class=\"dataframe\">\n",
              "  <thead>\n",
              "    <tr style=\"text-align: right;\">\n",
              "      <th></th>\n",
              "      <th>count</th>\n",
              "    </tr>\n",
              "    <tr>\n",
              "      <th>member_casual</th>\n",
              "      <th></th>\n",
              "    </tr>\n",
              "  </thead>\n",
              "  <tbody>\n",
              "    <tr>\n",
              "      <th>member</th>\n",
              "      <td>1895644</td>\n",
              "    </tr>\n",
              "    <tr>\n",
              "      <th>casual</th>\n",
              "      <td>1039868</td>\n",
              "    </tr>\n",
              "  </tbody>\n",
              "</table>\n",
              "</div><br><label><b>dtype:</b> int64</label>"
            ]
          },
          "metadata": {},
          "execution_count": 24
        }
      ]
    },
    {
      "cell_type": "code",
      "source": [
        "#convert to date and time\n",
        "df['started_at'] = pd.to_datetime(df['started_at'], errors='coerce', format='mixed')\n",
        "df['ended_at'] = pd.to_datetime(df['ended_at'], errors='coerce', format='mixed')\n"
      ],
      "metadata": {
        "id": "dyztWVovk6qI"
      },
      "execution_count": 26,
      "outputs": []
    },
    {
      "cell_type": "code",
      "source": [
        "#Convert Ride Length in Minutes\n",
        "df['ride_length'] = (df['ended_at'] - df['started_at']).dt.total_seconds() / 60\n"
      ],
      "metadata": {
        "id": "Bf6S41XWk6tY"
      },
      "execution_count": 27,
      "outputs": []
    },
    {
      "cell_type": "code",
      "source": [
        "#Create day_of_week\n",
        "df['day_of_week'] = df['started_at'].dt.day_name()\n"
      ],
      "metadata": {
        "id": "eNsCU89Pk6ww"
      },
      "execution_count": 28,
      "outputs": []
    },
    {
      "cell_type": "code",
      "source": [
        "#Remove invalid rides\n",
        "\n",
        "# Remove negative or zero durations\n",
        "df = df[df['ride_length'] > 0]\n",
        "\n",
        "# Remove extremely long rides (> 24 hours)\n",
        "df = df[df['ride_length'] < 24*60]"
      ],
      "metadata": {
        "id": "ZvgiHamHkaFP"
      },
      "execution_count": 29,
      "outputs": []
    },
    {
      "cell_type": "code",
      "source": [
        "#Remove duplicates\n",
        "df.drop_duplicates(subset='ride_id', inplace=True)\n"
      ],
      "metadata": {
        "id": "UVxxhtMUm0qs"
      },
      "execution_count": 30,
      "outputs": []
    },
    {
      "cell_type": "code",
      "source": [
        "# Validate the Cleaned Data\n",
        "print(\"Number of rides after cleaning:\", len(df))\n",
        "print(df['member_casual'].value_counts())\n",
        "\n",
        "print(\"Average ride length by user type:\")\n",
        "print(df.groupby('member_casual')['ride_length'].mean())\n",
        "\n"
      ],
      "metadata": {
        "colab": {
          "base_uri": "https://localhost:8080/"
        },
        "id": "ydX9pIiFm0t5",
        "outputId": "97d76022-22e5-483a-edd1-af82cc32e7c3"
      },
      "execution_count": 31,
      "outputs": [
        {
          "output_type": "stream",
          "name": "stdout",
          "text": [
            "Number of rides after cleaning: 2901586\n",
            "member_casual\n",
            "member    1875165\n",
            "casual    1026417\n",
            "Name: count, dtype: int64\n",
            "Average ride length by user type:\n",
            "member_casual\n",
            "casual    21.392059\n",
            "member    12.128760\n",
            "Name: ride_length, dtype: float64\n"
          ]
        }
      ]
    },
    {
      "cell_type": "code",
      "source": [
        "# Save Cleaned Data\n",
        "cleaned_path = \"/content/cleaned_cyclistic.csv\"\n",
        "df.to_csv(cleaned_path, index=False)\n",
        "print(\"Cleaned dataset saved at:\", cleaned_path)\n"
      ],
      "metadata": {
        "colab": {
          "base_uri": "https://localhost:8080/"
        },
        "id": "Mgpl4n0Fm0z5",
        "outputId": "c0c8ff38-5c75-41ca-bd46-0d4df61f4437"
      },
      "execution_count": 32,
      "outputs": [
        {
          "output_type": "stream",
          "name": "stdout",
          "text": [
            "Cleaned dataset saved at: /content/cleaned_cyclistic.csv\n"
          ]
        }
      ]
    },
    {
      "cell_type": "code",
      "source": [],
      "metadata": {
        "id": "U9VsAPLgo-2U"
      },
      "execution_count": null,
      "outputs": []
    },
    {
      "cell_type": "code",
      "source": [],
      "metadata": {
        "id": "w0hBV5ago-_q"
      },
      "execution_count": null,
      "outputs": []
    },
    {
      "cell_type": "code",
      "source": [],
      "metadata": {
        "id": "4ibCYJIXo_DZ"
      },
      "execution_count": null,
      "outputs": []
    },
    {
      "cell_type": "code",
      "source": [],
      "metadata": {
        "id": "-1CJY-ago_HB"
      },
      "execution_count": null,
      "outputs": []
    }
  ]
}